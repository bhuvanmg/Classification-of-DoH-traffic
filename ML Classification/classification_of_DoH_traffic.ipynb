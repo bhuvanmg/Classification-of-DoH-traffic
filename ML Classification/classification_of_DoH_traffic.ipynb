{
  "nbformat": 4,
  "nbformat_minor": 0,
  "metadata": {
    "colab": {
      "provenance": [],
      "gpuType": "V28"
    },
    "kernelspec": {
      "name": "python3",
      "display_name": "Python 3"
    },
    "language_info": {
      "name": "python"
    },
    "accelerator": "TPU"
  },
  "cells": [
    {
      "cell_type": "markdown",
      "source": [
        "## **IMPORTS**"
      ],
      "metadata": {
        "id": "33lXfQkWQanh"
      }
    },
    {
      "cell_type": "code",
      "execution_count": 1,
      "metadata": {
        "id": "W26hdgPRN9co"
      },
      "outputs": [],
      "source": [
        "import pandas as pd\n",
        "import numpy as np\n",
        "from sklearn.model_selection import train_test_split\n",
        "from sklearn.feature_extraction.text import CountVectorizer\n",
        "from sklearn.svm import SVC\n",
        "from sklearn.metrics import classification_report, confusion_matrix, accuracy_score\n",
        "import matplotlib.pyplot as plt\n",
        "import seaborn as sns\n",
        "from sklearn.neighbors import KNeighborsClassifier\n",
        "from sklearn.preprocessing import StandardScaler\n",
        "from sklearn.naive_bayes import MultinomialNB\n",
        "from sklearn.naive_bayes import GaussianNB\n",
        "from sklearn.ensemble import RandomForestClassifier"
      ]
    },
    {
      "cell_type": "markdown",
      "source": [
        "# **LOAD DATASETS**"
      ],
      "metadata": {
        "id": "DBz1uyBLQfpE"
      }
    },
    {
      "cell_type": "code",
      "source": [
        "# Load the datasets\n",
        "\n",
        "dga_df = pd.read_csv('/content/combined_dga.csv')\n",
        "tunnel_df = pd.read_csv('/content/combined_dnsexfil.csv')"
      ],
      "metadata": {
        "id": "e_GJaMwbPLpk"
      },
      "execution_count": 2,
      "outputs": []
    },
    {
      "cell_type": "markdown",
      "source": [
        "### REMOVE NON NUMBERIC COLUMNS"
      ],
      "metadata": {
        "id": "AK5-jkkAQmTQ"
      }
    },
    {
      "cell_type": "code",
      "source": [
        "# Drop the first 4 columns and the last column (src ip, dest ip, src port, dest port, DoH)\n",
        "dga_df = dga_df.iloc[:, 5:-1]\n",
        "tunnel_df = tunnel_df.iloc[:, 5:-1]"
      ],
      "metadata": {
        "id": "EYlPziPcPGvN"
      },
      "execution_count": 3,
      "outputs": []
    },
    {
      "cell_type": "markdown",
      "source": [
        "### COMBINE DATASETS"
      ],
      "metadata": {
        "id": "hHHlQNbKQ6if"
      }
    },
    {
      "cell_type": "code",
      "source": [
        "# Attach labels before plotting\n",
        "dga_df['label'] = 0\n",
        "tunnel_df['label'] = 1\n",
        "df = pd.concat([dga_df, tunnel_df], ignore_index=True)\n",
        "df = df.sample(frac=1, random_state=42).reset_index(drop=True)\n",
        "df = df.fillna(df.median(numeric_only=True))"
      ],
      "metadata": {
        "collapsed": true,
        "id": "IzremDR2PR7r"
      },
      "execution_count": 4,
      "outputs": []
    },
    {
      "cell_type": "markdown",
      "source": [
        "### SELECT RELEVANT FEATURES"
      ],
      "metadata": {
        "id": "e-kjiMdiQ9_5"
      }
    },
    {
      "cell_type": "code",
      "source": [
        "correlation = df.corr()\n",
        "print(correlation['label'].sort_values(ascending=False))"
      ],
      "metadata": {
        "colab": {
          "base_uri": "https://localhost:8080/"
        },
        "id": "3VAFSJWjcP_B",
        "outputId": "7d063763-c0a7-4b6b-bff1-2197ed9a6cd6"
      },
      "execution_count": 5,
      "outputs": [
        {
          "output_type": "stream",
          "name": "stdout",
          "text": [
            "label                                     1.000000\n",
            "PacketLengthCoefficientofVariation        0.519080\n",
            "PacketLengthStandardDeviation             0.481030\n",
            "PacketLengthMean                          0.480741\n",
            "PacketLengthVariance                      0.267484\n",
            "PacketTimeVariance                        0.253779\n",
            "Duration                                  0.243593\n",
            "PacketTimeStandardDeviation               0.241102\n",
            "PacketTimeMean                            0.221794\n",
            "PacketTimeMedian                          0.208300\n",
            "PacketTimeMode                            0.188142\n",
            "ResponseTimeTimeMode                      0.151193\n",
            "ResponseTimeTimeMean                      0.149936\n",
            "ResponseTimeTimeMedian                    0.139391\n",
            "PacketLengthSkewFromMedian                0.135553\n",
            "ResponseTimeTimeStandardDeviation         0.081318\n",
            "ResponseTimeTimeCoefficientofVariation    0.070977\n",
            "ResponseTimeTimeSkewFromMedian            0.017375\n",
            "PacketLengthMedian                       -0.006245\n",
            "PacketLengthMode                         -0.018846\n",
            "ResponseTimeTimeVariance                 -0.030031\n",
            "PacketTimeCoefficientofVariation         -0.073303\n",
            "PacketTimeSkewFromMedian                 -0.087424\n",
            "PacketLengthSkewFromMode                 -0.133591\n",
            "ResponseTimeTimeSkewFromMode             -0.159392\n",
            "PacketTimeSkewFromMode                   -0.233356\n",
            "FlowBytesReceived                        -0.424449\n",
            "FlowBytesSent                            -0.426392\n",
            "FlowReceivedRate                         -0.426844\n",
            "FlowSentRate                             -0.434451\n",
            "Name: label, dtype: float64\n"
          ]
        }
      ]
    },
    {
      "cell_type": "code",
      "source": [
        "print(df.head())"
      ],
      "metadata": {
        "colab": {
          "base_uri": "https://localhost:8080/"
        },
        "collapsed": true,
        "id": "f7r2GrwXP8gu",
        "outputId": "1dbe071f-d3f4-462b-a371-33b5a8c17ef5"
      },
      "execution_count": 6,
      "outputs": [
        {
          "output_type": "stream",
          "name": "stdout",
          "text": [
            "     Duration  FlowBytesSent  FlowSentRate  FlowBytesReceived  \\\n",
            "0  120.032639         622040   5182.257136             482977   \n",
            "1    2.272440            330    145.218356                270   \n",
            "2  129.963902           8275     63.671526               5847   \n",
            "3  120.053733         130293   1085.289035              91404   \n",
            "4    2.265471            330    145.665074                270   \n",
            "\n",
            "   FlowReceivedRate  PacketLengthVariance  PacketLengthStandardDeviation  \\\n",
            "0       4023.713917           1978.807010                      44.483784   \n",
            "1        118.815018             36.000000                       6.000000   \n",
            "2         44.989416          26587.061944                     163.055395   \n",
            "3        761.359082          14575.308449                     120.728242   \n",
            "4        119.180515             36.000000                       6.000000   \n",
            "\n",
            "   PacketLengthMean  PacketLengthMedian  PacketLengthMode  ...  \\\n",
            "0        113.533032                99.0                54  ...   \n",
            "1         60.000000                60.0                54  ...   \n",
            "2        133.226415                87.0                54  ...   \n",
            "3        146.625000                90.0                54  ...   \n",
            "4         60.000000                60.0                54  ...   \n",
            "\n",
            "   PacketTimeCoefficientofVariation  ResponseTimeTimeVariance  \\\n",
            "0                          0.579552                  0.000003   \n",
            "1                          0.685214                  0.000075   \n",
            "2                          1.008542                  2.463356   \n",
            "3                          0.590218                  0.005009   \n",
            "4                          0.691708                  0.000018   \n",
            "\n",
            "   ResponseTimeTimeStandardDeviation  ResponseTimeTimeMean  \\\n",
            "0                           0.001662              0.000147   \n",
            "1                           0.008653              0.053913   \n",
            "2                           1.569508              0.949619   \n",
            "3                           0.070778              0.014291   \n",
            "4                           0.004215              0.052311   \n",
            "\n",
            "   ResponseTimeTimeMedian  ResponseTimeTimeMode  \\\n",
            "0                0.000087              0.000086   \n",
            "1                0.050897              0.042076   \n",
            "2                0.224323              0.000416   \n",
            "3                0.000114              0.000120   \n",
            "4                0.049329              0.048111   \n",
            "\n",
            "   ResponseTimeTimeSkewFromMedian  ResponseTimeTimeSkewFromMode  \\\n",
            "0                        0.108806                      0.036871   \n",
            "1                        1.045528                      1.367942   \n",
            "2                        1.386351                      0.604778   \n",
            "3                        0.600911                      0.200219   \n",
            "4                        2.122490                      0.996455   \n",
            "\n",
            "   ResponseTimeTimeCoefficientofVariation  label  \n",
            "0                               11.283086      0  \n",
            "1                                0.160498      0  \n",
            "2                                1.652776      0  \n",
            "3                                4.952595      1  \n",
            "4                                0.080578      0  \n",
            "\n",
            "[5 rows x 30 columns]\n"
          ]
        }
      ]
    },
    {
      "cell_type": "markdown",
      "source": [
        "### DROP FEATURES WITH ABS CORRELATION COEFFECIENT LESS THAN 0.2"
      ],
      "metadata": {
        "id": "SwEdhXP7RINK"
      }
    },
    {
      "cell_type": "code",
      "source": [
        "columns_to_drop = [\n",
        "    'PacketTimeMode',\n",
        "    'ResponseTimeTimeMode',\n",
        "    'ResponseTimeTimeMean',\n",
        "    'ResponseTimeTimeMedian',\n",
        "    'PacketLengthSkewFromMedian',\n",
        "    'ResponseTimeTimeStandardDeviation',\n",
        "    'ResponseTimeTimeCoefficientofVariation',\n",
        "    'ResponseTimeTimeSkewFromMedian',\n",
        "    'PacketLengthMedian',\n",
        "    'PacketLengthMode'\n",
        "]\n",
        "\n",
        "df = df.drop(columns=columns_to_drop)\n"
      ],
      "metadata": {
        "id": "YMvk84cne2a_"
      },
      "execution_count": 7,
      "outputs": []
    },
    {
      "cell_type": "code",
      "source": [
        "print(df)\n"
      ],
      "metadata": {
        "colab": {
          "base_uri": "https://localhost:8080/"
        },
        "collapsed": true,
        "id": "UbWutSq5e3f4",
        "outputId": "4da10adb-4783-4a01-b573-f3640ad8bee2"
      },
      "execution_count": 8,
      "outputs": [
        {
          "output_type": "stream",
          "name": "stdout",
          "text": [
            "        Duration  FlowBytesSent  FlowSentRate  FlowBytesReceived  \\\n",
            "0     120.032639         622040   5182.257136             482977   \n",
            "1       2.272440            330    145.218356                270   \n",
            "2     129.963902           8275     63.671526               5847   \n",
            "3     120.053733         130293   1085.289035              91404   \n",
            "4       2.265471            330    145.665074                270   \n",
            "...          ...            ...           ...                ...   \n",
            "5068  120.053826          62095    517.226331              49788   \n",
            "5069   99.089249         634533   6403.651318             506278   \n",
            "5070    1.062050            333    313.544560                186   \n",
            "5071  120.942036          57044    471.663963              44263   \n",
            "5072  120.021590         520027   4332.778794             388649   \n",
            "\n",
            "      FlowReceivedRate  PacketLengthVariance  PacketLengthStandardDeviation  \\\n",
            "0          4023.713917           1978.807010                      44.483784   \n",
            "1           118.815018             36.000000                       6.000000   \n",
            "2            44.989416          26587.061944                     163.055395   \n",
            "3           761.359082          14575.308449                     120.728242   \n",
            "4           119.180515             36.000000                       6.000000   \n",
            "...                ...                   ...                            ...   \n",
            "5068        414.713980          18004.213962                     134.179782   \n",
            "5069       5109.313120           2112.149723                      45.958130   \n",
            "5070        175.132998            215.859375                      14.692154   \n",
            "5071        365.985239          17557.031768                     132.502950   \n",
            "5072       3238.159068           1891.952648                      43.496582   \n",
            "\n",
            "      PacketLengthMean  PacketLengthSkewFromMode  \\\n",
            "0           113.533032                  1.338309   \n",
            "1            60.000000                  1.000000   \n",
            "2           133.226415                  0.485886   \n",
            "3           146.625000                  0.767219   \n",
            "4            60.000000                  1.000000   \n",
            "...                ...                       ...   \n",
            "5068        167.489521                  0.845802   \n",
            "5069        114.081100                  1.307301   \n",
            "5070         64.875000                  0.740191   \n",
            "5071        166.077049                  0.845846   \n",
            "5072        114.471655                  1.390262   \n",
            "\n",
            "      PacketLengthCoefficientofVariation  PacketTimeVariance  \\\n",
            "0                               0.391814         1191.284949   \n",
            "1                               0.100000            0.616437   \n",
            "2                               1.223897          952.301913   \n",
            "3                               0.823381         1169.361715   \n",
            "4                               0.100000            0.614482   \n",
            "...                                  ...                 ...   \n",
            "5068                            0.801123         1199.820013   \n",
            "5069                            0.402855          818.467516   \n",
            "5070                            0.226469            0.187856   \n",
            "5071                            0.797840         1350.417113   \n",
            "5072                            0.379977         1173.493273   \n",
            "\n",
            "      PacketTimeStandardDeviation  PacketTimeMean  PacketTimeMedian  \\\n",
            "0                       34.514996       59.554631         59.537893   \n",
            "1                        0.785135        1.145825          1.147531   \n",
            "2                       30.859389       30.598007         20.674913   \n",
            "3                       34.195931       57.937763         58.055442   \n",
            "4                        0.783889        1.133266          1.133692   \n",
            "...                           ...             ...               ...   \n",
            "5068                    34.638418       59.574860         58.487915   \n",
            "5069                    28.608871       49.487579         49.391340   \n",
            "5070                     0.433424        0.769538          0.997881   \n",
            "5071                    36.748022       60.641884         63.035358   \n",
            "5072                    34.256288       60.697480         61.475132   \n",
            "\n",
            "      PacketTimeSkewFromMedian  PacketTimeSkewFromMode  \\\n",
            "0                     0.001455                0.722071   \n",
            "1                    -0.006522                1.459399   \n",
            "2                     0.964675                0.320528   \n",
            "3                    -0.010324                1.159218   \n",
            "4                    -0.001631                1.445697   \n",
            "...                        ...                     ...   \n",
            "5068                  0.094139                1.422296   \n",
            "5069                  0.010092                1.659199   \n",
            "5070                 -1.580509               -0.674888   \n",
            "5071                 -0.195396                0.753884   \n",
            "5072                 -0.068103                1.737858   \n",
            "\n",
            "      PacketTimeCoefficientofVariation  ResponseTimeTimeVariance  \\\n",
            "0                             0.579552              2.760874e-06   \n",
            "1                             0.685214              7.487187e-05   \n",
            "2                             1.008542              2.463356e+00   \n",
            "3                             0.590218              5.009488e-03   \n",
            "4                             0.691708              1.776743e-05   \n",
            "...                                ...                       ...   \n",
            "5068                          0.581427              1.422127e-01   \n",
            "5069                          0.578102              7.747519e-10   \n",
            "5070                          0.563226              3.684106e-04   \n",
            "5071                          0.605984              7.007287e-02   \n",
            "5072                          0.564377              3.792977e-06   \n",
            "\n",
            "      ResponseTimeTimeSkewFromMode  label  \n",
            "0                         0.036871      0  \n",
            "1                         1.367942      0  \n",
            "2                         0.604778      0  \n",
            "3                         0.200219      1  \n",
            "4                         0.996455      0  \n",
            "...                            ...    ...  \n",
            "5068                      0.167363      1  \n",
            "5069                     -0.924880      0  \n",
            "5070                      0.710725      1  \n",
            "5071                      0.181411      1  \n",
            "5072                      0.025100      0  \n",
            "\n",
            "[5073 rows x 20 columns]\n"
          ]
        }
      ]
    },
    {
      "cell_type": "markdown",
      "source": [
        "### Check for NaN values"
      ],
      "metadata": {
        "id": "-i6PK63eRYNg"
      }
    },
    {
      "cell_type": "code",
      "source": [
        "X = df.iloc[:, :-1]\n",
        "y = df.iloc[:, -1]"
      ],
      "metadata": {
        "id": "Ue0BxNdcQkw_"
      },
      "execution_count": 9,
      "outputs": []
    },
    {
      "cell_type": "code",
      "source": [
        "print(X)"
      ],
      "metadata": {
        "colab": {
          "base_uri": "https://localhost:8080/"
        },
        "collapsed": true,
        "id": "7FB60JF9X9cA",
        "outputId": "4579617e-e644-4905-b11a-61d01424902b"
      },
      "execution_count": 10,
      "outputs": [
        {
          "output_type": "stream",
          "name": "stdout",
          "text": [
            "        Duration  FlowBytesSent  FlowSentRate  FlowBytesReceived  \\\n",
            "0     120.032639         622040   5182.257136             482977   \n",
            "1       2.272440            330    145.218356                270   \n",
            "2     129.963902           8275     63.671526               5847   \n",
            "3     120.053733         130293   1085.289035              91404   \n",
            "4       2.265471            330    145.665074                270   \n",
            "...          ...            ...           ...                ...   \n",
            "5068  120.053826          62095    517.226331              49788   \n",
            "5069   99.089249         634533   6403.651318             506278   \n",
            "5070    1.062050            333    313.544560                186   \n",
            "5071  120.942036          57044    471.663963              44263   \n",
            "5072  120.021590         520027   4332.778794             388649   \n",
            "\n",
            "      FlowReceivedRate  PacketLengthVariance  PacketLengthStandardDeviation  \\\n",
            "0          4023.713917           1978.807010                      44.483784   \n",
            "1           118.815018             36.000000                       6.000000   \n",
            "2            44.989416          26587.061944                     163.055395   \n",
            "3           761.359082          14575.308449                     120.728242   \n",
            "4           119.180515             36.000000                       6.000000   \n",
            "...                ...                   ...                            ...   \n",
            "5068        414.713980          18004.213962                     134.179782   \n",
            "5069       5109.313120           2112.149723                      45.958130   \n",
            "5070        175.132998            215.859375                      14.692154   \n",
            "5071        365.985239          17557.031768                     132.502950   \n",
            "5072       3238.159068           1891.952648                      43.496582   \n",
            "\n",
            "      PacketLengthMean  PacketLengthSkewFromMode  \\\n",
            "0           113.533032                  1.338309   \n",
            "1            60.000000                  1.000000   \n",
            "2           133.226415                  0.485886   \n",
            "3           146.625000                  0.767219   \n",
            "4            60.000000                  1.000000   \n",
            "...                ...                       ...   \n",
            "5068        167.489521                  0.845802   \n",
            "5069        114.081100                  1.307301   \n",
            "5070         64.875000                  0.740191   \n",
            "5071        166.077049                  0.845846   \n",
            "5072        114.471655                  1.390262   \n",
            "\n",
            "      PacketLengthCoefficientofVariation  PacketTimeVariance  \\\n",
            "0                               0.391814         1191.284949   \n",
            "1                               0.100000            0.616437   \n",
            "2                               1.223897          952.301913   \n",
            "3                               0.823381         1169.361715   \n",
            "4                               0.100000            0.614482   \n",
            "...                                  ...                 ...   \n",
            "5068                            0.801123         1199.820013   \n",
            "5069                            0.402855          818.467516   \n",
            "5070                            0.226469            0.187856   \n",
            "5071                            0.797840         1350.417113   \n",
            "5072                            0.379977         1173.493273   \n",
            "\n",
            "      PacketTimeStandardDeviation  PacketTimeMean  PacketTimeMedian  \\\n",
            "0                       34.514996       59.554631         59.537893   \n",
            "1                        0.785135        1.145825          1.147531   \n",
            "2                       30.859389       30.598007         20.674913   \n",
            "3                       34.195931       57.937763         58.055442   \n",
            "4                        0.783889        1.133266          1.133692   \n",
            "...                           ...             ...               ...   \n",
            "5068                    34.638418       59.574860         58.487915   \n",
            "5069                    28.608871       49.487579         49.391340   \n",
            "5070                     0.433424        0.769538          0.997881   \n",
            "5071                    36.748022       60.641884         63.035358   \n",
            "5072                    34.256288       60.697480         61.475132   \n",
            "\n",
            "      PacketTimeSkewFromMedian  PacketTimeSkewFromMode  \\\n",
            "0                     0.001455                0.722071   \n",
            "1                    -0.006522                1.459399   \n",
            "2                     0.964675                0.320528   \n",
            "3                    -0.010324                1.159218   \n",
            "4                    -0.001631                1.445697   \n",
            "...                        ...                     ...   \n",
            "5068                  0.094139                1.422296   \n",
            "5069                  0.010092                1.659199   \n",
            "5070                 -1.580509               -0.674888   \n",
            "5071                 -0.195396                0.753884   \n",
            "5072                 -0.068103                1.737858   \n",
            "\n",
            "      PacketTimeCoefficientofVariation  ResponseTimeTimeVariance  \\\n",
            "0                             0.579552              2.760874e-06   \n",
            "1                             0.685214              7.487187e-05   \n",
            "2                             1.008542              2.463356e+00   \n",
            "3                             0.590218              5.009488e-03   \n",
            "4                             0.691708              1.776743e-05   \n",
            "...                                ...                       ...   \n",
            "5068                          0.581427              1.422127e-01   \n",
            "5069                          0.578102              7.747519e-10   \n",
            "5070                          0.563226              3.684106e-04   \n",
            "5071                          0.605984              7.007287e-02   \n",
            "5072                          0.564377              3.792977e-06   \n",
            "\n",
            "      ResponseTimeTimeSkewFromMode  \n",
            "0                         0.036871  \n",
            "1                         1.367942  \n",
            "2                         0.604778  \n",
            "3                         0.200219  \n",
            "4                         0.996455  \n",
            "...                            ...  \n",
            "5068                      0.167363  \n",
            "5069                     -0.924880  \n",
            "5070                      0.710725  \n",
            "5071                      0.181411  \n",
            "5072                      0.025100  \n",
            "\n",
            "[5073 rows x 19 columns]\n"
          ]
        }
      ]
    },
    {
      "cell_type": "code",
      "source": [
        "nan_counts = df.isnull().sum()\n",
        "print(\"NaN counts per column:\")\n",
        "print(nan_counts)"
      ],
      "metadata": {
        "colab": {
          "base_uri": "https://localhost:8080/"
        },
        "collapsed": true,
        "id": "MpPnEVciZ9nJ",
        "outputId": "ed6432d3-01ea-44ea-bec2-540956580c84"
      },
      "execution_count": 11,
      "outputs": [
        {
          "output_type": "stream",
          "name": "stdout",
          "text": [
            "NaN counts per column:\n",
            "Duration                              0\n",
            "FlowBytesSent                         0\n",
            "FlowSentRate                          0\n",
            "FlowBytesReceived                     0\n",
            "FlowReceivedRate                      0\n",
            "PacketLengthVariance                  0\n",
            "PacketLengthStandardDeviation         0\n",
            "PacketLengthMean                      0\n",
            "PacketLengthSkewFromMode              0\n",
            "PacketLengthCoefficientofVariation    0\n",
            "PacketTimeVariance                    0\n",
            "PacketTimeStandardDeviation           0\n",
            "PacketTimeMean                        0\n",
            "PacketTimeMedian                      0\n",
            "PacketTimeSkewFromMedian              0\n",
            "PacketTimeSkewFromMode                0\n",
            "PacketTimeCoefficientofVariation      0\n",
            "ResponseTimeTimeVariance              0\n",
            "ResponseTimeTimeSkewFromMode          0\n",
            "label                                 0\n",
            "dtype: int64\n"
          ]
        }
      ]
    },
    {
      "cell_type": "markdown",
      "source": [
        "### CREATE TRAINING AND TESTING DATASETS"
      ],
      "metadata": {
        "id": "1FN0bA3eRkFQ"
      }
    },
    {
      "cell_type": "code",
      "source": [
        "X_train, X_test, y_train, y_test = train_test_split(X, y, test_size=0.2, random_state=42)"
      ],
      "metadata": {
        "id": "yUGWRx6ebeSQ"
      },
      "execution_count": 12,
      "outputs": []
    },
    {
      "cell_type": "markdown",
      "source": [
        "# **K-Nearest Neighbours**"
      ],
      "metadata": {
        "id": "jkZ00HhcRozr"
      }
    },
    {
      "cell_type": "code",
      "source": [
        "# Scale the features (KNN is sensitive to scale)\n",
        "scaler = StandardScaler()\n",
        "X_train_scaled = scaler.fit_transform(X_train)\n",
        "X_test_scaled = scaler.transform(X_test)\n",
        "\n",
        "# Initialize and train the KNN classifier\n",
        "knn = KNeighborsClassifier(n_neighbors=5)  # You can tune n_neighbors\n",
        "knn.fit(X_train_scaled, y_train)\n",
        "\n",
        "# Make predictions and evaluate\n",
        "y_pred = knn.predict(X_test_scaled)\n",
        "\n",
        "print(\"Accuracy:\", accuracy_score(y_test, y_pred))\n",
        "print(\"Classification Report:\\n\", classification_report(y_test, y_pred))"
      ],
      "metadata": {
        "colab": {
          "base_uri": "https://localhost:8080/"
        },
        "id": "nI2hFjXYh3-Y",
        "outputId": "1c147d87-e9c1-40e2-c42f-40f5b8293cde"
      },
      "execution_count": 13,
      "outputs": [
        {
          "output_type": "stream",
          "name": "stdout",
          "text": [
            "Accuracy: 0.9586206896551724\n",
            "Classification Report:\n",
            "               precision    recall  f1-score   support\n",
            "\n",
            "           0       0.98      0.95      0.96       601\n",
            "           1       0.93      0.97      0.95       414\n",
            "\n",
            "    accuracy                           0.96      1015\n",
            "   macro avg       0.96      0.96      0.96      1015\n",
            "weighted avg       0.96      0.96      0.96      1015\n",
            "\n"
          ]
        }
      ]
    },
    {
      "cell_type": "code",
      "source": [
        "# Confusion matrix for KNN\n",
        "cm = confusion_matrix(y_test, y_pred)\n",
        "sns.heatmap(cm, annot=True, fmt='d', cmap='Blues')\n",
        "plt.xlabel('Predicted')\n",
        "plt.ylabel('Actual')\n",
        "plt.title('KNN Confusion Matrix')\n",
        "plt.show()"
      ],
      "metadata": {
        "colab": {
          "base_uri": "https://localhost:8080/",
          "height": 472
        },
        "id": "ednld9E0yDF1",
        "outputId": "577adba4-187a-43b0-f009-70d0c35ab57c"
      },
      "execution_count": 14,
      "outputs": [
        {
          "output_type": "display_data",
          "data": {
            "text/plain": [
              "<Figure size 640x480 with 2 Axes>"
            ],
            "image/png": "[encoded data removed]"
          },
          "metadata": {}
        }
      ]
    },
    {
      "cell_type": "markdown",
      "source": [
        "# **Naive Bayes Model**"
      ],
      "metadata": {
        "id": "jwj4ElDsRxkK"
      }
    },
    {
      "cell_type": "code",
      "source": [
        "# Use GaussianNB (suitable for continuous features like index)\n",
        "nb_model = GaussianNB()\n",
        "nb_model.fit(X_train, y_train)\n",
        "\n",
        "# Predictions\n",
        "y_pred = nb_model.predict(X_test)\n",
        "\n",
        "# Evaluation\n",
        "print(\"Accuracy:\", accuracy_score(y_test, y_pred))\n",
        "print(\"\\nClassification Report:\")\n",
        "print(classification_report(y_test, y_pred))\n",
        "\n",
        "# Confusion matrix\n",
        "cm = confusion_matrix(y_test, y_pred)\n",
        "sns.heatmap(cm, annot=True, fmt='d', cmap='Purples')\n",
        "plt.xlabel('Predicted')\n",
        "plt.ylabel('Actual')\n",
        "plt.title('Naive Bayes Confusion Matrix')\n",
        "plt.show()\n"
      ],
      "metadata": {
        "colab": {
          "base_uri": "https://localhost:8080/",
          "height": 680
        },
        "id": "8eFkhWuCQ7zR",
        "outputId": "8bb3384b-f2da-439c-c4d6-aa2f1e4aec4a"
      },
      "execution_count": 15,
      "outputs": [
        {
          "output_type": "stream",
          "name": "stdout",
          "text": [
            "Accuracy: 0.865024630541872\n",
            "\n",
            "Classification Report:\n",
            "              precision    recall  f1-score   support\n",
            "\n",
            "           0       0.95      0.82      0.88       601\n",
            "           1       0.78      0.93      0.85       414\n",
            "\n",
            "    accuracy                           0.87      1015\n",
            "   macro avg       0.86      0.88      0.86      1015\n",
            "weighted avg       0.88      0.87      0.87      1015\n",
            "\n"
          ]
        },
        {
          "output_type": "display_data",
          "data": {
            "text/plain": [
              "<Figure size 640x480 with 2 Axes>"
            ],
            "image/png": "[encoded data removed]"
          },
          "metadata": {}
        }
      ]
    },
    {
      "cell_type": "code",
      "source": [
        "print(\"Shape of df:\", df.shape)\n",
        "print(\"Number of rows:\", df.shape[0])\n",
        "print(\"Number of columns:\", df.shape[1])\n"
      ],
      "metadata": {
        "colab": {
          "base_uri": "https://localhost:8080/"
        },
        "id": "u-lPaGjwSRuL",
        "outputId": "3f0f29e2-3a8e-4cda-b9aa-414720e2b889"
      },
      "execution_count": 16,
      "outputs": [
        {
          "output_type": "stream",
          "name": "stdout",
          "text": [
            "Shape of df: (5073, 20)\n",
            "Number of rows: 5073\n",
            "Number of columns: 20\n"
          ]
        }
      ]
    },
    {
      "cell_type": "markdown",
      "source": [
        "# **Random Forest Classifier**"
      ],
      "metadata": {
        "id": "DnXtqIUkR8Tl"
      }
    },
    {
      "cell_type": "code",
      "source": [
        "# Initialize the Random Forest classifier\n",
        "rf = RandomForestClassifier(n_estimators=100, random_state=42)\n",
        "\n",
        "# Fit the model\n",
        "rf.fit(X_train, y_train)\n",
        "\n",
        "# Predict on the test set\n",
        "y_pred = rf.predict(X_test)\n",
        "\n",
        "# Evaluate the model\n",
        "print(\"Accuracy:\", accuracy_score(y_test, y_pred))\n",
        "print(\"Classification Report:\\n\", classification_report(y_test, y_pred))"
      ],
      "metadata": {
        "colab": {
          "base_uri": "https://localhost:8080/"
        },
        "id": "DVMGC3ZXTDAp",
        "outputId": "eba4bb03-679f-4064-ace4-7e5e9c9f16ed"
      },
      "execution_count": 17,
      "outputs": [
        {
          "output_type": "stream",
          "name": "stdout",
          "text": [
            "Accuracy: 0.9714285714285714\n",
            "Classification Report:\n",
            "               precision    recall  f1-score   support\n",
            "\n",
            "           0       0.98      0.97      0.98       601\n",
            "           1       0.96      0.97      0.97       414\n",
            "\n",
            "    accuracy                           0.97      1015\n",
            "   macro avg       0.97      0.97      0.97      1015\n",
            "weighted avg       0.97      0.97      0.97      1015\n",
            "\n"
          ]
        }
      ]
    },
    {
      "cell_type": "code",
      "source": [
        "# Confusion matrix\n",
        "cm = confusion_matrix(y_test, y_pred)\n",
        "sns.heatmap(cm, annot=True, fmt='d', cmap='Purples')\n",
        "plt.xlabel('Predicted')\n",
        "plt.ylabel('Actual')\n",
        "plt.title('Random Forest Confusion Matrix')\n",
        "plt.show()\n"
      ],
      "metadata": {
        "colab": {
          "base_uri": "https://localhost:8080/",
          "height": 472
        },
        "id": "-vVjNTeJyWW7",
        "outputId": "015cfd68-ef08-48f3-b533-03ff1f691657"
      },
      "execution_count": 18,
      "outputs": [
        {
          "output_type": "display_data",
          "data": {
            "text/plain": [
              "<Figure size 640x480 with 2 Axes>"
            ],
            "image/png": "[encoded data removed]"
          },
          "metadata": {}
        }
      ]
    }
  ]
}